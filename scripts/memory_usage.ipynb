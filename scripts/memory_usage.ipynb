{
 "cells": [
  {
   "cell_type": "code",
   "execution_count": 1,
   "metadata": {},
   "outputs": [],
   "source": [
    "import jax\n",
    "import jax.numpy as jnp\n",
    "import brax.training.agents.diffrl_shac.networks as shac_networks\n",
    "from brax.training.acme import running_statistics, specs\n",
    "from brax.envs.inverted_pendulum import InvertedPendulum\n",
    "from jax import tree_util"
   ]
  },
  {
   "cell_type": "code",
   "execution_count": 2,
   "metadata": {},
   "outputs": [],
   "source": [
    "env = InvertedPendulum(backend=\"mjx\")\n",
    "obs_size = env.observation_size\n",
    "action_size = env.action_size"
   ]
  },
  {
   "cell_type": "code",
   "execution_count": 3,
   "metadata": {},
   "outputs": [
    {
     "name": "stdout",
     "output_type": "stream",
     "text": [
      "Observation size 4\n",
      "Action size 1\n"
     ]
    }
   ],
   "source": [
    "print(\"Observation size\", obs_size)\n",
    "print(\"Action size\", action_size)"
   ]
  },
  {
   "cell_type": "code",
   "execution_count": 4,
   "metadata": {},
   "outputs": [
    {
     "name": "stderr",
     "output_type": "stream",
     "text": [
      "/home/alexaldermanwebb/brax/brax/brax/training/networks.py:215: UserWarning: Explicitly requested dtype float64 requested in zeros is not available, and will be truncated to dtype float32. To enable more dtypes, set the jax_enable_x64 configuration option or the JAX_ENABLE_X64 shell environment variable. See https://github.com/jax-ml/jax#current-gotchas for more.\n",
      "  dummy_obs = jnp.zeros((1, obs_size), dtype=dtype)\n",
      "/home/alexaldermanwebb/brax/brax/brax/training/networks.py:247: UserWarning: Explicitly requested dtype float64 requested in zeros is not available, and will be truncated to dtype float32. To enable more dtypes, set the jax_enable_x64 configuration option or the JAX_ENABLE_X64 shell environment variable. See https://github.com/jax-ml/jax#current-gotchas for more.\n",
      "  dummy_obs = jnp.zeros((1, obs_size), dtype=dtype)\n"
     ]
    }
   ],
   "source": [
    "network = shac_networks.make_shac_networks(\n",
    "    4,\n",
    "    1,\n",
    "    policy_hidden_layer_sizes=(64, 64),\n",
    "    value_hidden_layer_sizes=(64, 64),\n",
    ")\n",
    "make_inference_fn = shac_networks.make_inference_fn(network)\n",
    "\n",
    "prng = jax.random.PRNGKey(10)\n",
    "key_policy, key_inference, key_env = jax.random.split(prng, 3)\n"
   ]
  },
  {
   "cell_type": "code",
   "execution_count": 5,
   "metadata": {},
   "outputs": [],
   "source": [
    "def inference_grad_fn(policy_params):\n",
    "    normalizer_params = running_statistics.init_state(\n",
    "        specs.Array((4,), jnp.dtype('float32'))\n",
    "    )\n",
    "    inference_fn = make_inference_fn((normalizer_params, policy_params))\n",
    "    \n",
    "    obs = jnp.asarray([3.0, 3.0, 3.0, 3.0])\n",
    "    action, metrics = inference_fn(obs, key_inference)\n",
    "    return jnp.square(jnp.sum(action))\n",
    "\n",
    "inference_grad = jax.grad(inference_grad_fn)"
   ]
  },
  {
   "cell_type": "code",
   "execution_count": 6,
   "metadata": {},
   "outputs": [],
   "source": [
    "policy_params = network.policy_network.init(key_policy)\n",
    "grad = inference_grad(policy_params)\n",
    "tree_util.tree_map(lambda x: x.block_until_ready(), grad)\n",
    "\n",
    "jax.profiler.save_device_memory_profile(\"memory.prof\")"
   ]
  },
  {
   "cell_type": "code",
   "execution_count": 7,
   "metadata": {},
   "outputs": [
    {
     "name": "stderr",
     "output_type": "stream",
     "text": [
      "2025-03-23 19:38:31.014209: E external/local_xla/xla/stream_executor/cuda/cuda_fft.cc:467] Unable to register cuFFT factory: Attempting to register factory for plugin cuFFT when one has already been registered\n",
      "WARNING: All log messages before absl::InitializeLog() is called are written to STDERR\n",
      "E0000 00:00:1742758711.029774  130187 cuda_dnn.cc:8579] Unable to register cuDNN factory: Attempting to register factory for plugin cuDNN when one has already been registered\n",
      "E0000 00:00:1742758711.034712  130187 cuda_blas.cc:1407] Unable to register cuBLAS factory: Attempting to register factory for plugin cuBLAS when one has already been registered\n",
      "W0000 00:00:1742758711.046791  130187 computation_placer.cc:177] computation placer already registered. Please check linkage and avoid linking the same target more than once.\n",
      "W0000 00:00:1742758711.046803  130187 computation_placer.cc:177] computation placer already registered. Please check linkage and avoid linking the same target more than once.\n",
      "W0000 00:00:1742758711.046805  130187 computation_placer.cc:177] computation placer already registered. Please check linkage and avoid linking the same target more than once.\n",
      "W0000 00:00:1742758711.046807  130187 computation_placer.cc:177] computation placer already registered. Please check linkage and avoid linking the same target more than once.\n"
     ]
    }
   ],
   "source": [
    "with jax.profiler.trace(\"/tmp/tensorboard\"):\n",
    "    policy_params = network.policy_network.init(key_policy)\n",
    "    grad = inference_grad(policy_params)\n",
    "    tree_util.tree_map(lambda x: x.block_until_ready(), grad)"
   ]
  },
  {
   "cell_type": "code",
   "execution_count": 6,
   "metadata": {},
   "outputs": [],
   "source": [
    "state = env.reset(key_env)\n",
    "\n",
    "def env_step_grad_fn(actions):\n",
    "    env.step(state, actions)\n",
    "    return state.reward\n",
    "\n",
    "env_step_grad = jax.grad(env_step_grad_fn)"
   ]
  },
  {
   "cell_type": "code",
   "execution_count": null,
   "metadata": {},
   "outputs": [],
   "source": [
    "with jax.profiler.trace(\"/tmp/tensorboard\"):\n",
    "    actions = jnp.asarray([0.0])\n",
    "    grad = env_step_grad(actions)\n",
    "    tree_util.tree_map(lambda x: x.block_until_ready(), grad)"
   ]
  },
  {
   "cell_type": "code",
   "execution_count": null,
   "metadata": {},
   "outputs": [],
   "source": [
    "actions = jnp.asarray([0.0])\n",
    "grad = env_step_grad(actions)\n",
    "tree_util.tree_map(lambda x: x.block_until_ready(), grad)\n",
    "\n",
    "jax.profiler.save_device_memory_profile(\"memory.prof\")"
   ]
  },
  {
   "cell_type": "code",
   "execution_count": null,
   "metadata": {},
   "outputs": [],
   "source": []
  }
 ],
 "metadata": {
  "kernelspec": {
   "display_name": "brax-txpWQzqs",
   "language": "python",
   "name": "python3"
  },
  "language_info": {
   "codemirror_mode": {
    "name": "ipython",
    "version": 3
   },
   "file_extension": ".py",
   "mimetype": "text/x-python",
   "name": "python",
   "nbconvert_exporter": "python",
   "pygments_lexer": "ipython3",
   "version": "3.10.16"
  }
 },
 "nbformat": 4,
 "nbformat_minor": 2
}
